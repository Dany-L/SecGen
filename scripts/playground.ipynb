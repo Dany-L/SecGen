{
 "cells": [
  {
   "cell_type": "code",
   "execution_count": 6,
   "metadata": {},
   "outputs": [],
   "source": [
    "import torch\n",
    "from dataclasses import dataclass, field\n",
    "\n",
    "@dataclass\n",
    "class LureSystemClass:\n",
    "    A: torch.Tensor \n",
    "    B: torch.Tensor \n",
    "    B2: torch.Tensor \n",
    "    C: torch.Tensor \n",
    "    D: torch.Tensor \n",
    "    D12: torch.Tensor \n",
    "    D21: torch.Tensor \n",
    "    D22: torch.Tensor \n",
    "    nl: torch.nn.Module \n"
   ]
  },
  {
   "cell_type": "code",
   "execution_count": 3,
   "metadata": {},
   "outputs": [
    {
     "ename": "TypeError",
     "evalue": "LureSystemClass.__init__() missing 9 required positional arguments: 'A', 'B', 'B2', 'C', 'D', 'D12', 'D21', 'D22', and 'nl'",
     "output_type": "error",
     "traceback": [
      "\u001b[0;31m---------------------------------------------------------------------------\u001b[0m",
      "\u001b[0;31mTypeError\u001b[0m                                 Traceback (most recent call last)",
      "Cell \u001b[0;32mIn[3], line 1\u001b[0m\n\u001b[0;32m----> 1\u001b[0m \u001b[43mLureSystemClass\u001b[49m\u001b[43m(\u001b[49m\u001b[43m)\u001b[49m\n",
      "\u001b[0;31mTypeError\u001b[0m: LureSystemClass.__init__() missing 9 required positional arguments: 'A', 'B', 'B2', 'C', 'D', 'D12', 'D21', 'D22', and 'nl'"
     ]
    }
   ],
   "source": [
    "LureSystemClass()"
   ]
  },
  {
   "cell_type": "code",
   "execution_count": 5,
   "metadata": {},
   "outputs": [],
   "source": [
    "class LureSystemClass:\n",
    "    A: torch.Tensor \n",
    "    B: torch.Tensor \n",
    "    B2: torch.Tensor \n",
    "    C: torch.Tensor \n",
    "    D: torch.Tensor \n",
    "    D12: torch.Tensor \n",
    "    D21: torch.Tensor \n",
    "    D22: torch.Tensor \n",
    "    nl: torch.nn.Module "
   ]
  },
  {
   "cell_type": "code",
   "execution_count": null,
   "metadata": {},
   "outputs": [],
   "source": []
  }
 ],
 "metadata": {
  "kernelspec": {
   "display_name": "crnn",
   "language": "python",
   "name": "python3"
  },
  "language_info": {
   "codemirror_mode": {
    "name": "ipython",
    "version": 3
   },
   "file_extension": ".py",
   "mimetype": "text/x-python",
   "name": "python",
   "nbconvert_exporter": "python",
   "pygments_lexer": "ipython3",
   "version": "3.12.3"
  }
 },
 "nbformat": 4,
 "nbformat_minor": 2
}
