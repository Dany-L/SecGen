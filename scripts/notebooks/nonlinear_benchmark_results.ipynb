{
 "cells": [
  {
   "cell_type": "code",
   "execution_count": 1,
   "id": "9210236f",
   "metadata": {},
   "outputs": [],
   "source": [
    "%load_ext autoreload\n",
    "%autoreload 2"
   ]
  },
  {
   "cell_type": "code",
   "execution_count": 15,
   "id": "94ce9e32",
   "metadata": {},
   "outputs": [
    {
     "name": "stdout",
     "output_type": "stream",
     "text": [
      "73728\n",
      "73728\n",
      "73728\n",
      "73728\n",
      "108477\n",
      "108477\n",
      "108477\n",
      "108477\n"
     ]
    },
    {
     "data": {
      "text/plain": [
       "728820"
      ]
     },
     "execution_count": 15,
     "metadata": {},
     "output_type": "execute_result"
    }
   ],
   "source": [
    "import nonlinear_benchmarks\n",
    "\n",
    "# Load data: \n",
    "# Keep this part fixed, though you can split the train set further in a train and validation set. \n",
    "# Do not use the test set to make any decision about the model (parameters, hyperparameters, structure, ...)\n",
    "trains, tests = nonlinear_benchmarks.F16(atleast_2d=True, always_return_tuples_of_datasets=True)\n",
    "n = tests[0].state_initialization_window_length\n",
    "\n",
    "samples = 0\n",
    "for train in trains:\n",
    "    N = train.u.shape[0]\n",
    "    print(N)\n",
    "    samples += N\n",
    "\n",
    "samples"
   ]
  },
  {
   "cell_type": "code",
   "execution_count": null,
   "id": "80d4e023",
   "metadata": {},
   "outputs": [],
   "source": []
  },
  {
   "cell_type": "code",
   "execution_count": null,
   "id": "da3de9d7",
   "metadata": {},
   "outputs": [],
   "source": []
  }
 ],
 "metadata": {
  "kernelspec": {
   "display_name": "crnn",
   "language": "python",
   "name": "python3"
  },
  "language_info": {
   "codemirror_mode": {
    "name": "ipython",
    "version": 3
   },
   "file_extension": ".py",
   "mimetype": "text/x-python",
   "name": "python",
   "nbconvert_exporter": "python",
   "pygments_lexer": "ipython3",
   "version": "3.12.3"
  }
 },
 "nbformat": 4,
 "nbformat_minor": 5
}
