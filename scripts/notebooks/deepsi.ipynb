{
 "cells": [
  {
   "cell_type": "code",
   "execution_count": 9,
   "id": "1ec914d4",
   "metadata": {},
   "outputs": [
    {
     "name": "stdout",
     "output_type": "stream",
     "text": [
      "The autoreload extension is already loaded. To reload it, use:\n",
      "  %reload_ext autoreload\n"
     ]
    }
   ],
   "source": [
    "%load_ext autoreload\n",
    "%autoreload 2\n",
    "import numpy as np\n",
    "import deepSI as dsi\n",
    "import torch\n",
    "\n",
    "## Generate dataset ## \n",
    "np.random.seed(0)\n",
    "ulist = np.random.randn(10_000) #input sequence\n",
    "x = [0, 0] #initial state\n",
    "ylist = [] #output sequence\n",
    "for uk in ulist:\n",
    "    ylist.append(x[1]*x[0]*0.1 + x[0] + np.random.randn()*1e-3)  #compute output\n",
    "    x = x[0]/(1.2+x[1]**2) + x[1]*0.4, \\\n",
    "        x[1]/(1.2+x[0]**2) + x[0]*0.4 + uk*(1+x[0]**2/10) #advance state\n",
    "\n",
    "# Put the inputs and outputs in a Input_output_data format\n",
    "data = Input_output_data(u=ulist, y=np.array(ylist)) \n",
    "\n",
    "# Split dataset\n",
    "train, val, test  = data[:8000], data[8000:9000], data[9000:]"
   ]
  },
  {
   "cell_type": "code",
   "execution_count": 17,
   "id": "224890b2",
   "metadata": {},
   "outputs": [
    {
     "name": "stdout",
     "output_type": "stream",
     "text": [
      "model.f(x, u) = tensor([[ 0.4732, -1.0893]], grad_fn=<AddBackward0>)\n",
      "u: torch.Size([1]), x: torch.Size([1, 2])\n",
      "train_val = Input_output_data \"train Cascaded_Tanks\" u.shape=(1024,) y.shape=(1024,) sampling_time=4.0\n",
      "test = Input_output_data \"test Cascaded_Tanks\" u.shape=(1024,) y.shape=(1024,) sampling_time=4.0 state_initialization_window_length=5\n"
     ]
    }
   ],
   "source": [
    "nx, nb, na = 2, 5, 5\n",
    "nu, ny, norm = dsi.get_nu_ny_and_auto_norm(train) \n",
    "# Equivilent to \n",
    "# nu = 'scalar', ny = 'scalar', norm = dsi.Norm(umean=train.u.mean(0), ustd=train.u.std(0), ymean=train.y.mean(0), ystd=train.y.std(0))\n",
    "torch.manual_seed(1)\n",
    "model = dsi.SUBNET(nu, ny, norm, nx=nx, nb=nb, na=na)\n",
    "# this model has three components:\n",
    "# print(model.f)\n",
    "# print(model.h)\n",
    "# print(model.encoder)\n",
    "\n",
    "x = torch.randn(1,model.nx) # 1 batch size and nx state vector size \n",
    "u = torch.randn(1) #1 batch size and 'scalar' input size\n",
    "print(f'{model.f(x, u) = }') #the components can be evaluated in desired point\n",
    "print(f'u: {u.shape}, x: {x.shape}')\n",
    "\n",
    "### load dataset ###\n",
    "from nonlinear_benchmarks import Cascaded_Tanks\n",
    "train_val, test = Cascaded_Tanks()\n",
    "train, val = train_val[:850], train_val[850:]\n",
    "print(f'{train_val = }')\n",
    "print(f'{test = }')"
   ]
  },
  {
   "cell_type": "code",
   "execution_count": 18,
   "id": "05e83ebb",
   "metadata": {},
   "outputs": [
    {
     "name": "stdout",
     "output_type": "stream",
     "text": [
      "Number of samples to train on = 816\n"
     ]
    },
    {
     "data": {
      "application/vnd.jupyter.widget-view+json": {
       "model_id": "6837633b87614dde891108fe6d5dc478",
       "version_major": 2,
       "version_minor": 0
      },
      "text/plain": [
       "  0%|          | 0/1000 [00:00<?, ?it/s]"
      ]
     },
     "metadata": {},
     "output_type": "display_data"
    },
    {
     "name": "stdout",
     "output_type": "stream",
     "text": [
      "it       0 NRMS loss nan NRMS val 1.49205!! nan samps/sec\n",
      "it     100 NRMS loss 0.62930 NRMS val 0.97241!! 3050.25 samps/sec\n",
      "it     200 NRMS loss 0.30833 NRMS val 0.51499!! 3208.80 samps/sec\n",
      "it     300 NRMS loss 0.22331 NRMS val 0.57695   3242.12 samps/sec\n",
      "it     400 NRMS loss 0.21072 NRMS val 0.54340   3254.00 samps/sec\n",
      "it     500 NRMS loss 0.18998 NRMS val 0.48714!! 3305.23 samps/sec\n",
      "it     600 NRMS loss 0.18331 NRMS val 0.46515!! 3303.81 samps/sec\n",
      "it     700 NRMS loss 0.18172 NRMS val 0.48756   3343.17 samps/sec\n",
      "it     800 NRMS loss 0.16342 NRMS val 0.37120!! 3337.73 samps/sec\n",
      "it     900 NRMS loss 0.16889 NRMS val 0.37678   3311.22 samps/sec\n",
      "it   1,000 NRMS loss 0.15464 NRMS val 0.40511   3305.68 samps/sec\n"
     ]
    }
   ],
   "source": [
    "train_dict = dsi.fit(model, train=train, val=val, n_its=1000, T=30, batch_size=64, val_freq=100)"
   ]
  },
  {
   "cell_type": "code",
   "execution_count": null,
   "id": "2fcf78d4",
   "metadata": {},
   "outputs": [],
   "source": []
  }
 ],
 "metadata": {
  "kernelspec": {
   "display_name": "crnn",
   "language": "python",
   "name": "python3"
  },
  "language_info": {
   "codemirror_mode": {
    "name": "ipython",
    "version": 3
   },
   "file_extension": ".py",
   "mimetype": "text/x-python",
   "name": "python",
   "nbconvert_exporter": "python",
   "pygments_lexer": "ipython3",
   "version": "3.12.11"
  }
 },
 "nbformat": 4,
 "nbformat_minor": 5
}
